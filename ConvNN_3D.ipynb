{
 "cells": [
  {
   "cell_type": "code",
   "execution_count": 4,
   "metadata": {},
   "outputs": [],
   "source": [
    "import Cnn_tool.cnn_ana_py"
   ]
  },
  {
   "cell_type": "code",
   "execution_count": 5,
   "metadata": {},
   "outputs": [],
   "source": [
    "%matplotlib inline\n",
    "import numpy as np\n",
    "import matplotlib.pyplot as plt\n",
    "from sklearn.model_selection import train_test_split\n",
    "from tqdm import tqdm\n",
    "import torch"
   ]
  },
  {
   "cell_type": "code",
   "execution_count": 6,
   "metadata": {},
   "outputs": [],
   "source": [
    "# 試行回数\n",
    "trial_number = 1"
   ]
  },
  {
   "cell_type": "markdown",
   "metadata": {},
   "source": [
    "## CNNを用いた$\\pi^{0}$と$\\gamma$のclassification(0.15m, 100GeV)"
   ]
  },
  {
   "cell_type": "markdown",
   "metadata": {},
   "source": [
    "### 入力するDataSetの読み込みと処理"
   ]
  },
  {
   "cell_type": "code",
   "execution_count": 9,
   "metadata": {},
   "outputs": [],
   "source": [
    "#read Dataset\n",
    "ds_gamma = np.load(\"./gamma_hitmap.npy\")\n",
    "\n",
    "ds_pi0 = np.load(\"./pi0_hitmap.npy\")"
   ]
  },
  {
   "cell_type": "code",
   "execution_count": 10,
   "metadata": {},
   "outputs": [
    {
     "name": "stdout",
     "output_type": "stream",
     "text": [
      "[0 0 0 ... 0 0 0] [1 1 1 ... 1 1 1] [    0     1     2 ... 19997 19998 19999]\n"
     ]
    }
   ],
   "source": [
    "# create label\n",
    "# Backgraund = kaon, Signal = pi\n",
    "b = np.full(10000, 0)\n",
    "s = np.full(10000, 1)\n",
    "event_number = np.arange(20000)\n",
    "print(b, s, event_number)"
   ]
  },
  {
   "cell_type": "code",
   "execution_count": 11,
   "metadata": {},
   "outputs": [
    {
     "name": "stdout",
     "output_type": "stream",
     "text": [
      "(10000, 20, 20, 40) (10000, 20, 20, 40)\n"
     ]
    }
   ],
   "source": [
    "print(ds_gamma.shape, ds_pi0.shape)"
   ]
  },
  {
   "cell_type": "code",
   "execution_count": 12,
   "metadata": {},
   "outputs": [
    {
     "name": "stdout",
     "output_type": "stream",
     "text": [
      "(20000, 1, 20, 20, 40) (20000,)\n"
     ]
    }
   ],
   "source": [
    "# create x_dataset\n",
    "x = np.concatenate([ds_gamma, ds_pi0])\n",
    "x = x[:, np.newaxis, :, :, :]\n",
    "\n",
    "#y_datasetの作成\n",
    "y = np.concatenate([b, s])\n",
    "\n",
    "print(x.shape, y.shape)"
   ]
  },
  {
   "cell_type": "code",
   "execution_count": 13,
   "metadata": {},
   "outputs": [
    {
     "name": "stdout",
     "output_type": "stream",
     "text": [
      "(12000, 1, 20, 20, 40) (4000, 1, 20, 20, 40) (4000, 1, 20, 20, 40)\n"
     ]
    }
   ],
   "source": [
    "# dataset split to train, valid and test\n",
    "tv_t_seed = np.random.randint(1, 10000)\n",
    "x_train_valid, x_test, y_train_valid, y_test, en_train_valid, en_test = train_test_split(x, y, event_number, train_size=0.8, random_state=tv_t_seed)\n",
    "\n",
    "t_v_seed = np.random.randint(1, 10000)\n",
    "x_train, x_valid, y_train, y_valid, en_train, en_train_valid = train_test_split(x_train_valid, y_train_valid, en_train_valid, train_size=0.75, random_state=t_v_seed)\n",
    "print(x_train.shape, x_valid.shape, x_test.shape)"
   ]
  },
  {
   "cell_type": "markdown",
   "metadata": {},
   "source": [
    "### TorchTensol, DataLoaderへの変換"
   ]
  },
  {
   "cell_type": "code",
   "execution_count": 14,
   "metadata": {},
   "outputs": [],
   "source": [
    "# import\n",
    "from torch.utils.data import TensorDataset, DataLoader, random_split\n",
    "from torch import tensor, float32"
   ]
  },
  {
   "cell_type": "code",
   "execution_count": 15,
   "metadata": {},
   "outputs": [],
   "source": [
    "\n",
    "train_c1 = TensorDataset(tensor(x_train, dtype=float32), tensor(y_train[:, np.newaxis], dtype=float32))\n",
    "valid_c1 = TensorDataset(tensor(x_valid, dtype=float32), tensor(y_valid[:, np.newaxis], dtype=float32))\n",
    "test_c1 = TensorDataset(tensor(x_test, dtype=float32), tensor(y_test[:, np.newaxis], dtype=float32))"
   ]
  },
  {
   "cell_type": "code",
   "execution_count": 16,
   "metadata": {},
   "outputs": [],
   "source": [
    "#DataLoader\n",
    "batch_size = 128\n",
    "train_c1_dataloader = DataLoader(train_c1, batch_size=batch_size, shuffle=True)\n",
    "valid_c1_dataloader = DataLoader(valid_c1, batch_size=batch_size, shuffle=True)\n",
    "test_c1_dataloader = DataLoader(test_c1, batch_size=batch_size, shuffle=False)"
   ]
  },
  {
   "cell_type": "markdown",
   "metadata": {},
   "source": [
    "### modelの定義"
   ]
  },
  {
   "cell_type": "code",
   "execution_count": 17,
   "metadata": {},
   "outputs": [],
   "source": [
    "import torch.nn as nn\n",
    "from torch.nn import Sequential, Flatten, Conv3d, MaxPool3d, Linear, ReLU, Sigmoid\n",
    "\n",
    "class ConvNet(nn.Module):\n",
    "    def __init__(self, input_shape):\n",
    "        super().__init__()\n",
    "        self.conv_relu_stack = Sequential(\n",
    "            Conv3d(input_shape, 64, 3), # output_channels=64, karnel_size=3\n",
    "            Conv3d(64, 64, 3), # input_channels=64, output_channels=64, karnel_size=3\n",
    "            MaxPool3d(2, 2), # karnel_size=2, stride=2\n",
    "            ReLU(),\n",
    "            Conv3d(64, 32, 3), # input_channels=64, output_channels=32, karnel_size=3\n",
    "            Conv3d(32, 32, 3), # input_channels=32, output_channels=32, karnel_size=3\n",
    "            MaxPool3d(2, 2), # karnel_size=2, stride=2\n",
    "            ReLU()\n",
    "        ) # input:W=H=20 D=40, C output:W=H=2 D=7, C=32\n",
    "        self.linear_relu_stack = Sequential(\n",
    "            Flatten(),\n",
    "            Linear(32*2*2*7, 128), #input=32*2*2*7, output=128\n",
    "            ReLU(),\n",
    "            Linear(128, 1), #input=128, output=1\n",
    "            Sigmoid()\n",
    "        )\n",
    "    \n",
    "    def forward(self, x):\n",
    "        x = self.conv_relu_stack(x)\n",
    "        x = self.linear_relu_stack(x)\n",
    "        return x"
   ]
  },
  {
   "cell_type": "code",
   "execution_count": 18,
   "metadata": {},
   "outputs": [],
   "source": [
    "#trainingの時とtestの時にmodelを動かすための関数\n",
    "\n",
    "def train(dataloader, model, loss_fn, optimizer):\n",
    "    # modelをtrain modelに切り替える\n",
    "    model.train()\n",
    "    # 1 epochでのlossの合計を入力する変数\n",
    "    train_loss_total = 0.\n",
    "    for x, y in dataloader:\n",
    "        x, y = x.to(\"cuda\"), y.to(\"cuda\")\n",
    "        # 順伝播\n",
    "        y_pred = model(x)\n",
    "        # loss function\n",
    "        loss = loss_fn(y_pred, y)\n",
    "        train_loss_total += loss\n",
    "        # back propagation\n",
    "        optimizer.zero_grad()\n",
    "        loss.backward()\n",
    "        optimizer.step()\n",
    "    # loss average\n",
    "    train_loss = train_loss_total/len(dataloader)\n",
    "    return train_loss\n",
    "\n",
    "def valid(dataloader, model, loss_fn, threshold=0.5):\n",
    "    # modelをevaluation modeに切り替える\n",
    "    model.eval()\n",
    "    # 1 epochでのlossの合計を入力する変数\n",
    "    valid_loss_total = 0.\n",
    "    # anserとyが一致した回数を入力する変数\n",
    "    correct = 0\n",
    "    with torch.no_grad():\n",
    "        for x, y in dataloader:\n",
    "            x, y = x.to(\"cuda\"), y.to(\"cuda\")\n",
    "            # 順伝播\n",
    "            y_pred = model(x)\n",
    "            # loss function\n",
    "            loss = loss_fn(y_pred, y)\n",
    "            valid_loss_total += loss\n",
    "            # accuracyを計算するためのthreshold\n",
    "            np_threshold = np.full(y.shape[0],threshold)\n",
    "            tensor_threshold = tensor(np_threshold[:, np.newaxis], dtype=float32).to(\"cuda\")\n",
    "            # anserとyが一致した回数\n",
    "            anser = (y_pred>=tensor_threshold).type(float32)\n",
    "            correct += (anser==y).type(float32).sum().item()\n",
    "    # loss average\n",
    "    valid_loss = valid_loss_total/len(dataloader)\n",
    "    # accuracy\n",
    "    correct /= len(dataloader.dataset)\n",
    "    return valid_loss, correct"
   ]
  },
  {
   "cell_type": "code",
   "execution_count": 19,
   "metadata": {},
   "outputs": [],
   "source": [
    "def test(dataloader, model):\n",
    "    # modelをevaluation modeに切り替える\n",
    "    model.eval()\n",
    "    with torch.no_grad():\n",
    "        for i, (x, y) in enumerate(dataloader):\n",
    "            x, y = x.to(\"cuda\"), y.to(\"cuda\")\n",
    "            # 順伝播\n",
    "            y_pred = model(x)\n",
    "            # print(y_pred.size(), y.size())\n",
    "            np_y_pred = y_pred.to(\"cpu\").detach().numpy()\n",
    "            np_y = y.to(\"cpu\").detach().numpy()\n",
    "            if i==0:\n",
    "                output = np_y_pred\n",
    "                true = np_y\n",
    "            else:\n",
    "                output = np.concatenate([output, np_y_pred], axis=0)\n",
    "                true = np.concatenate([true, np_y], axis=0)\n",
    "    # output = np.array(output)\n",
    "    # true = np.array(true)\n",
    "    return output, true"
   ]
  },
  {
   "cell_type": "markdown",
   "metadata": {},
   "source": [
    "### 学習"
   ]
  },
  {
   "cell_type": "markdown",
   "metadata": {},
   "source": [
    "### input channel = 1"
   ]
  },
  {
   "cell_type": "code",
   "execution_count": 20,
   "metadata": {},
   "outputs": [
    {
     "name": "stdout",
     "output_type": "stream",
     "text": [
      "Train loss: 0.70467, Train accuraxy: 0.58758, Validation loss: 0.67353, Validation accuracy: 0.56200\n",
      "Train loss: 0.66603, Train accuraxy: 0.58925, Validation loss: 0.67361, Validation accuracy: 0.56600\n",
      "Train loss: 0.65964, Train accuraxy: 0.60608, Validation loss: 0.66053, Validation accuracy: 0.59450\n",
      "Train loss: 0.65544, Train accuraxy: 0.61333, Validation loss: 0.66148, Validation accuracy: 0.59600\n",
      "Train loss: 0.65408, Train accuraxy: 0.61492, Validation loss: 0.65771, Validation accuracy: 0.59450\n",
      "Train loss: 0.64942, Train accuraxy: 0.63433, Validation loss: 0.64421, Validation accuracy: 0.61950\n",
      "Train loss: 0.58680, Train accuraxy: 0.75400, Validation loss: 0.51534, Validation accuracy: 0.73875\n",
      "Train loss: 0.50980, Train accuraxy: 0.77050, Validation loss: 0.49380, Validation accuracy: 0.75425\n",
      "Train loss: 0.46338, Train accuraxy: 0.78975, Validation loss: 0.47787, Validation accuracy: 0.76375\n",
      "Train loss: 0.44453, Train accuraxy: 0.80650, Validation loss: 0.45879, Validation accuracy: 0.78400\n"
     ]
    }
   ],
   "source": [
    "# loss_function = BCEloss, optimizer = Adam\n",
    "from torch.nn import BCELoss\n",
    "from torch.optim import Adam\n",
    "\n",
    "# model instance\n",
    "# input_shape:batch_size=64, channels=1, W=H=100\n",
    "model = ConvNet(1).to(\"cuda\")\n",
    "\n",
    "loss_fn = BCELoss()\n",
    "optimizer = Adam(model.parameters())\n",
    "# epochごとのlossを入力するリスト\n",
    "tloss = []\n",
    "vloss = []\n",
    "# epochごとのaccuracyを入力するリスト\n",
    "taccuracy = []\n",
    "vaccuracy = []\n",
    "\n",
    "# training\n",
    "num_epoch = 10\n",
    "for i_epoch in range(num_epoch):\n",
    "    #train\n",
    "    train_loss = train(train_c1_dataloader, model, loss_fn, optimizer)\n",
    "    _, train_accuracy = valid(train_c1_dataloader, model, loss_fn) \n",
    "    tloss.append(train_loss.to(\"cpu\").detach().numpy())\n",
    "    taccuracy.append(train_accuracy)\n",
    "    #validation\n",
    "    valid_loss, valid_accuracy = valid(valid_c1_dataloader, model, loss_fn)\n",
    "    vloss.append(valid_loss.to(\"cpu\").detach().numpy())\n",
    "    vaccuracy.append(valid_accuracy)\n",
    "\n",
    "    print(f\"Train loss: {train_loss:.5f}, Train accuraxy: {train_accuracy:.5f}, Validation loss: {valid_loss:.5f}, Validation accuracy: {valid_accuracy:.5f}\")\n",
    "\n",
    "tloss = np.array(tloss)\n",
    "taccuracy = np.array(taccuracy)\n",
    "vloss = np.array(vloss)\n",
    "vaccuracy = np.array(vaccuracy)"
   ]
  },
  {
   "cell_type": "markdown",
   "metadata": {},
   "source": [
    "評価"
   ]
  },
  {
   "cell_type": "code",
   "execution_count": 21,
   "metadata": {},
   "outputs": [],
   "source": [
    "#　パラメータの保存\n",
    "torch.save(model.state_dict(), f\"./CNNparameter/Conv3Ds{trial_number}\")"
   ]
  },
  {
   "cell_type": "code",
   "execution_count": 22,
   "metadata": {},
   "outputs": [
    {
     "data": {
      "image/png": "[encoded data removed]",
      "text/plain": [
       "<Figure size 864x864 with 2 Axes>"
      ]
     },
     "metadata": {
      "needs_background": "light"
     },
     "output_type": "display_data"
    }
   ],
   "source": [
    "Cnn_tool.plot_loss_accuracy(tloss, vloss, taccuracy, vaccuracy)"
   ]
  },
  {
   "cell_type": "code",
   "execution_count": 23,
   "metadata": {},
   "outputs": [],
   "source": [
    "np.save(f\"./Conv3Ds_result/tloss{trial_number}\", tloss)\n",
    "np.save(f\"./Conv3Ds_result/vloss{trial_number}\", vloss)\n",
    "np.save(f\"./Conv3Ds_result/taccuracy{trial_number}\", taccuracy)\n",
    "np.save(f\"./Conv3Ds_result/vaccuracy{trial_number}\", vaccuracy)"
   ]
  },
  {
   "cell_type": "code",
   "execution_count": 24,
   "metadata": {},
   "outputs": [
    {
     "name": "stdout",
     "output_type": "stream",
     "text": [
      "(4000,) <class 'numpy.ndarray'>\n",
      "(4000,) <class 'numpy.ndarray'>\n",
      "0.78175\n"
     ]
    }
   ],
   "source": [
    "output_y, true_y = test(test_c1_dataloader, model)\n",
    "output_y = output_y.reshape([4000])\n",
    "true_y = true_y.reshape([4000])\n",
    "print(output_y.shape, type(output_y))\n",
    "print(true_y.shape, type(true_y))\n",
    "output_y\n",
    "print(Cnn_tool.test_accuracy(output_y, true_y))"
   ]
  },
  {
   "cell_type": "code",
   "execution_count": 25,
   "metadata": {},
   "outputs": [
    {
     "name": "stdout",
     "output_type": "stream",
     "text": [
      "(2, 4000)\n",
      "(2, 2012) (2, 1988)\n"
     ]
    },
    {
     "data": {
      "image/png": "[encoded data removed]",
      "text/plain": [
       "<Figure size 720x720 with 1 Axes>"
      ]
     },
     "metadata": {
      "needs_background": "light"
     },
     "output_type": "display_data"
    },
    {
     "data": {
      "image/png": "[encoded data removed]",
      "text/plain": [
       "<Figure size 720x720 with 1 Axes>"
      ]
     },
     "metadata": {
      "needs_background": "light"
     },
     "output_type": "display_data"
    }
   ],
   "source": [
    "Cnn_tool.sb_histgram(output_y, true_y)\n",
    "Cnn_tool.plot_roc(output_y, true_y)"
   ]
  },
  {
   "cell_type": "code",
   "execution_count": 26,
   "metadata": {},
   "outputs": [],
   "source": [
    "x_test.shape\n",
    "np.save(f\"./Conv3Ds_result/x{trial_number}\", x_test)\n",
    "np.save(f\"./Conv3Ds_result/y_output{trial_number}\", output_y)\n",
    "np.save(f\"./Conv3Ds_result/y_label{trial_number}\", true_y)\n",
    "np.save(f\"./Conv3Ds_result/y_label{trial_number}\", en_test)"
   ]
  },
  {
   "cell_type": "code",
   "execution_count": null,
   "metadata": {},
   "outputs": [],
   "source": []
  }
 ],
 "metadata": {
  "kernelspec": {
   "display_name": "Python 3.9.12 ('DLenv')",
   "language": "python",
   "name": "python3"
  },
  "language_info": {
   "codemirror_mode": {
    "name": "ipython",
    "version": 3
   },
   "file_extension": ".py",
   "mimetype": "text/x-python",
   "name": "python",
   "nbconvert_exporter": "python",
   "pygments_lexer": "ipython3",
   "version": "3.9.12"
  },
  "orig_nbformat": 4,
  "vscode": {
   "interpreter": {
    "hash": "5b2c5f394eb5048c6a8f4deb58553c09a7e79e037dc6ac474fcf43b77867e870"
   }
  }
 },
 "nbformat": 4,
 "nbformat_minor": 2
}
